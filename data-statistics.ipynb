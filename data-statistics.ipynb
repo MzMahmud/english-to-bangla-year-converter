{
 "cells": [
  {
   "cell_type": "code",
   "execution_count": 42,
   "source": [
    "import json\r\n",
    "from operator import itemgetter\r\n",
    "from collections import Counter"
   ],
   "outputs": [],
   "metadata": {}
  },
  {
   "cell_type": "code",
   "execution_count": 43,
   "source": [
    "bangla_month_file_name = './data-collection/bangla-months.json'\r\n",
    "bangla_month_file = open(bangla_month_file_name, encoding='utf-8')\r\n",
    "bangla_months_data = json.load(bangla_month_file)\r\n",
    "bangla_months_data"
   ],
   "outputs": [
    {
     "output_type": "execute_result",
     "data": {
      "text/plain": [
       "[{'index': 0, 'nameEn': 'Boishakh', 'nameBn': 'বৈশাখ'},\n",
       " {'index': 1, 'nameEn': 'Joishtho', 'nameBn': 'জ্যৈষ্ঠ'},\n",
       " {'index': 2, 'nameEn': 'Ashar', 'nameBn': 'আষাঢ়'},\n",
       " {'index': 3, 'nameEn': 'Srabon', 'nameBn': 'শ্রাবণ'},\n",
       " {'index': 4, 'nameEn': 'Bhadro', 'nameBn': 'ভাদ্র'},\n",
       " {'index': 5, 'nameEn': 'Ashin', 'nameBn': 'আশ্বিন'},\n",
       " {'index': 6, 'nameEn': 'Kartrik', 'nameBn': 'কার্তিক'},\n",
       " {'index': 7, 'nameEn': 'Agrohayon', 'nameBn': 'অগ্রহায়ন'},\n",
       " {'index': 8, 'nameEn': 'Poush', 'nameBn': 'পৌষ'},\n",
       " {'index': 9, 'nameEn': 'Magh', 'nameBn': 'মাঘ'},\n",
       " {'index': 10, 'nameEn': 'Falgun', 'nameBn': 'ফাল্গুন'},\n",
       " {'index': 11, 'nameEn': 'Chaitro', 'nameBn': 'চৈত্র'}]"
      ]
     },
     "metadata": {},
     "execution_count": 43
    }
   ],
   "metadata": {}
  },
  {
   "cell_type": "code",
   "execution_count": 44,
   "source": [
    "bangla_months_map = { month['index'] : month for month in bangla_months_data}\r\n",
    "bangla_months_map"
   ],
   "outputs": [
    {
     "output_type": "execute_result",
     "data": {
      "text/plain": [
       "{0: {'index': 0, 'nameEn': 'Boishakh', 'nameBn': 'বৈশাখ'},\n",
       " 1: {'index': 1, 'nameEn': 'Joishtho', 'nameBn': 'জ্যৈষ্ঠ'},\n",
       " 2: {'index': 2, 'nameEn': 'Ashar', 'nameBn': 'আষাঢ়'},\n",
       " 3: {'index': 3, 'nameEn': 'Srabon', 'nameBn': 'শ্রাবণ'},\n",
       " 4: {'index': 4, 'nameEn': 'Bhadro', 'nameBn': 'ভাদ্র'},\n",
       " 5: {'index': 5, 'nameEn': 'Ashin', 'nameBn': 'আশ্বিন'},\n",
       " 6: {'index': 6, 'nameEn': 'Kartrik', 'nameBn': 'কার্তিক'},\n",
       " 7: {'index': 7, 'nameEn': 'Agrohayon', 'nameBn': 'অগ্রহায়ন'},\n",
       " 8: {'index': 8, 'nameEn': 'Poush', 'nameBn': 'পৌষ'},\n",
       " 9: {'index': 9, 'nameEn': 'Magh', 'nameBn': 'মাঘ'},\n",
       " 10: {'index': 10, 'nameEn': 'Falgun', 'nameBn': 'ফাল্গুন'},\n",
       " 11: {'index': 11, 'nameEn': 'Chaitro', 'nameBn': 'চৈত্র'}}"
      ]
     },
     "metadata": {},
     "execution_count": 44
    }
   ],
   "metadata": {}
  },
  {
   "cell_type": "code",
   "execution_count": 45,
   "source": [
    "year = 2020\r\n",
    "eng_bng_mapping_file_name = f'./data-collection/english-bangla-date-mapping-{year}.json'\r\n",
    "eng_bng_mapping_file = open(eng_bng_mapping_file_name, encoding='utf-8')\r\n",
    "eng_bng_mapping_data = json.load(eng_bng_mapping_file)\r\n",
    "eng_bng_mapping_data[:5]"
   ],
   "outputs": [
    {
     "output_type": "execute_result",
     "data": {
      "text/plain": [
       "[[{'day': 1, 'month': 1, 'year': 2020}, {'day': 18, 'month': 9, 'year': 1426}],\n",
       " [{'day': 2, 'month': 1, 'year': 2020}, {'day': 19, 'month': 9, 'year': 1426}],\n",
       " [{'day': 3, 'month': 1, 'year': 2020}, {'day': 20, 'month': 9, 'year': 1426}],\n",
       " [{'day': 4, 'month': 1, 'year': 2020}, {'day': 21, 'month': 9, 'year': 1426}],\n",
       " [{'day': 5, 'month': 1, 'year': 2020}, {'day': 22, 'month': 9, 'year': 1426}]]"
      ]
     },
     "metadata": {},
     "execution_count": 45
    }
   ],
   "metadata": {}
  },
  {
   "cell_type": "code",
   "execution_count": 46,
   "source": [
    "bangla_dates = [eng_bng_date_pair[1] for eng_bng_date_pair in eng_bng_mapping_data]\r\n",
    "bangla_dates.sort(key=itemgetter('month', 'day'))\r\n",
    "bangla_dates[:5]"
   ],
   "outputs": [
    {
     "output_type": "execute_result",
     "data": {
      "text/plain": [
       "[{'day': 1, 'month': 1, 'year': 1427},\n",
       " {'day': 2, 'month': 1, 'year': 1427},\n",
       " {'day': 3, 'month': 1, 'year': 1427},\n",
       " {'day': 4, 'month': 1, 'year': 1427},\n",
       " {'day': 5, 'month': 1, 'year': 1427}]"
      ]
     },
     "metadata": {},
     "execution_count": 46
    }
   ],
   "metadata": {}
  },
  {
   "cell_type": "code",
   "execution_count": 47,
   "source": [
    "bangla_month_days = Counter(map(lambda date : date['month'] - 1, bangla_dates))\r\n",
    "bangla_month_days"
   ],
   "outputs": [
    {
     "output_type": "execute_result",
     "data": {
      "text/plain": [
       "Counter({0: 31,\n",
       "         1: 31,\n",
       "         2: 31,\n",
       "         3: 31,\n",
       "         4: 31,\n",
       "         5: 30,\n",
       "         6: 30,\n",
       "         7: 30,\n",
       "         8: 30,\n",
       "         9: 30,\n",
       "         10: 31,\n",
       "         11: 30})"
      ]
     },
     "metadata": {},
     "execution_count": 47
    }
   ],
   "metadata": {}
  },
  {
   "cell_type": "code",
   "execution_count": 48,
   "source": [
    "bangla_month_days = {bangla_months_map[k]['nameBn'] : v for k, v in bangla_month_days.items()}\r\n",
    "bangla_month_days"
   ],
   "outputs": [
    {
     "output_type": "execute_result",
     "data": {
      "text/plain": [
       "{'বৈশাখ': 31,\n",
       " 'জ্যৈষ্ঠ': 31,\n",
       " 'আষাঢ়': 31,\n",
       " 'শ্রাবণ': 31,\n",
       " 'ভাদ্র': 31,\n",
       " 'আশ্বিন': 30,\n",
       " 'কার্তিক': 30,\n",
       " 'অগ্রহায়ন': 30,\n",
       " 'পৌষ': 30,\n",
       " 'মাঘ': 30,\n",
       " 'ফাল্গুন': 31,\n",
       " 'চৈত্র': 30}"
      ]
     },
     "metadata": {},
     "execution_count": 48
    }
   ],
   "metadata": {}
  },
  {
   "cell_type": "code",
   "execution_count": 49,
   "source": [
    "def get_bangla_month_days(year):\r\n",
    "    eng_bng_mapping_file_name = f'./data-collection/english-bangla-date-mapping-{year}.json'\r\n",
    "    eng_bng_mapping_file = open(eng_bng_mapping_file_name, encoding='utf-8')\r\n",
    "    eng_bng_mapping_data = json.load(eng_bng_mapping_file)\r\n",
    "    bangla_dates = [eng_bng_date_pair[1] for eng_bng_date_pair in eng_bng_mapping_data]\r\n",
    "    bangla_dates.sort(key=itemgetter('month', 'day'))\r\n",
    "    bangla_month_days = Counter(map(lambda date : date['month'] - 1, bangla_dates))\r\n",
    "    return {bangla_months_map[k]['nameBn'] : v for k, v in bangla_month_days.items()}"
   ],
   "outputs": [],
   "metadata": {}
  },
  {
   "cell_type": "code",
   "execution_count": 50,
   "source": [
    "# for non leap year\r\n",
    "get_bangla_month_days(2021)"
   ],
   "outputs": [
    {
     "output_type": "execute_result",
     "data": {
      "text/plain": [
       "{'বৈশাখ': 31,\n",
       " 'জ্যৈষ্ঠ': 31,\n",
       " 'আষাঢ়': 31,\n",
       " 'শ্রাবণ': 31,\n",
       " 'ভাদ্র': 31,\n",
       " 'আশ্বিন': 30,\n",
       " 'কার্তিক': 30,\n",
       " 'অগ্রহায়ন': 30,\n",
       " 'পৌষ': 30,\n",
       " 'মাঘ': 30,\n",
       " 'ফাল্গুন': 30,\n",
       " 'চৈত্র': 30}"
      ]
     },
     "metadata": {},
     "execution_count": 50
    }
   ],
   "metadata": {}
  },
  {
   "cell_type": "code",
   "execution_count": 51,
   "source": [
    "# for leap year\r\n",
    "get_bangla_month_days(2020)"
   ],
   "outputs": [
    {
     "output_type": "execute_result",
     "data": {
      "text/plain": [
       "{'বৈশাখ': 31,\n",
       " 'জ্যৈষ্ঠ': 31,\n",
       " 'আষাঢ়': 31,\n",
       " 'শ্রাবণ': 31,\n",
       " 'ভাদ্র': 31,\n",
       " 'আশ্বিন': 30,\n",
       " 'কার্তিক': 30,\n",
       " 'অগ্রহায়ন': 30,\n",
       " 'পৌষ': 30,\n",
       " 'মাঘ': 30,\n",
       " 'ফাল্গুন': 31,\n",
       " 'চৈত্র': 30}"
      ]
     },
     "metadata": {},
     "execution_count": 51
    }
   ],
   "metadata": {}
  }
 ],
 "metadata": {
  "orig_nbformat": 4,
  "language_info": {
   "name": "python",
   "version": "3.8.5",
   "mimetype": "text/x-python",
   "codemirror_mode": {
    "name": "ipython",
    "version": 3
   },
   "pygments_lexer": "ipython3",
   "nbconvert_exporter": "python",
   "file_extension": ".py"
  },
  "kernelspec": {
   "name": "python3",
   "display_name": "Python 3.8.5 64-bit ('base': conda)"
  },
  "interpreter": {
   "hash": "b3ba2566441a7c06988d0923437866b63cedc61552a5af99d1f4fb67d367b25f"
  }
 },
 "nbformat": 4,
 "nbformat_minor": 2
}